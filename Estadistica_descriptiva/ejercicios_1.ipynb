{
 "cells": [
  {
   "cell_type": "code",
   "execution_count": 3,
   "metadata": {},
   "outputs": [
    {
     "name": "stdout",
     "output_type": "stream",
     "text": [
      "Ventas\n",
      " 2000    2000.0\n",
      "2001    1200.0\n",
      "dtype: float64\n",
      "Ventas con descuento\n",
      " 2000    1800.0\n",
      "2001    1080.0\n",
      "dtype: float64\n"
     ]
    }
   ],
   "source": [
    "\"\"\"Escribir un programa que pregunte al usuario por las ventas de un rango de años y\n",
    "muestre por pantalla una serie con los datos de las ventas indexada por los años, antes y \n",
    "después de aplicarles un descuento del 10%.\"\"\"\n",
    "\n",
    "\n",
    "import pandas as pd\n",
    "\n",
    "\n",
    "def run():\n",
    "    \n",
    "\n",
    "    inicio = int(input('Introduce el año inicial: '))\n",
    "    fin = int(input('Introduce el año final: '))\n",
    "    ventas = {}\n",
    "    for i in range(inicio, fin+1):\n",
    "        ventas[i] = float(input('Introduce las ventas del año ' + str(i) +': '))\n",
    "    ventas = pd.Series(ventas)  \n",
    "    print('Ventas\\n', ventas)\n",
    "    print('Ventas con descuento\\n', ventas*0.9)\n",
    "\n",
    "\n",
    "if __name__ == '__main__':\n",
    "    run()"
   ]
  }
 ],
 "metadata": {
  "interpreter": {
   "hash": "96d30bcf7e220e5f1499b27ed4f5c3271c4055fc0bcf1558bd7e760f051a8bc0"
  },
  "kernelspec": {
   "display_name": "Python 3.8.8 64-bit ('base': conda)",
   "language": "python",
   "name": "python3"
  },
  "language_info": {
   "codemirror_mode": {
    "name": "ipython",
    "version": 3
   },
   "file_extension": ".py",
   "mimetype": "text/x-python",
   "name": "python",
   "nbconvert_exporter": "python",
   "pygments_lexer": "ipython3",
   "version": "3.8.8"
  },
  "orig_nbformat": 4
 },
 "nbformat": 4,
 "nbformat_minor": 2
}
