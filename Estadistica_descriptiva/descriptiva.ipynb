{
 "cells": [
  {
   "cell_type": "code",
   "execution_count": 4,
   "metadata": {},
   "outputs": [
    {
     "name": "stdout",
     "output_type": "stream",
     "text": [
      "Desviacion estandar 6428.152018202915\n",
      "rango 49999.0\n"
     ]
    }
   ],
   "source": [
    "import pandas as pd\n",
    "import matplotlib.pyplot as plt\n",
    "import seaborn as sns\n",
    "df = pd.read_csv('cars.csv')\n",
    "#Medidas de dispersión\n",
    "\n",
    "#Desviacion estandar\n",
    "df[\"price_usd\"].std()\n",
    "print(f\"Desviacion estandar\",df[\"price_usd\"].std())\n",
    "\n",
    "#Rango = valor maximo - valor minimo\n",
    "rango = df[\"price_usd\"].max() - df[\"price_usd\"].min()\n",
    "print(f\"rango\", rango)"
   ]
  },
  {
   "cell_type": "code",
   "execution_count": 13,
   "metadata": {},
   "outputs": [
    {
     "name": "stdout",
     "output_type": "stream",
     "text": [
      "valormin: 1.0   Q1: 2100.0   Mediana: 4800.0   Q3: 8990.0   ValorMax: 50000.0\n"
     ]
    }
   ],
   "source": [
    "#Quartiles\n",
    "median = df[\"price_usd\"].median() #mediana\n",
    "Q1 = df[\"price_usd\"].quantile(q=0.25)# q=0.25 es el primer quartil (25%)\n",
    "Q3 = df[\"price_usd\"].quantile(q=0.75)# q=0.75 es el tercer quartil (75%)\n",
    "min_val = df[\"price_usd\"].quantile(q=0) # q=0 es el minimo valor\n",
    "max_val = df[\"price_usd\"].quantile(q=1.0) # q=1.0 es el maximo valor\n",
    "print(\"valormin:\",min_val,\"  Q1:\", Q1,\"  Mediana:\", median,\"  Q3:\", Q3,\"  ValorMax:\", max_val) #minimo, primer quartil, mediana, tercer quartil, maximo"
   ]
  },
  {
   "cell_type": "code",
   "execution_count": 6,
   "metadata": {},
   "outputs": [
    {
     "name": "stdout",
     "output_type": "stream",
     "text": [
      "6890.0\n"
     ]
    }
   ],
   "source": [
    "iqr = Q3 - Q1 #interquartil\n",
    "print(iqr)"
   ]
  },
  {
   "cell_type": "markdown",
   "metadata": {},
   "source": [
    "Limites para la deteccion de outliers (datos simetricamente distribuidos)\n",
    "Datos entre Q1 - 1.5 * IQR y Q3 + 1.5 * IQR"
   ]
  },
  {
   "cell_type": "code",
   "execution_count": 7,
   "metadata": {},
   "outputs": [
    {
     "name": "stdout",
     "output_type": "stream",
     "text": [
      "-8235.0 19325.0\n"
     ]
    }
   ],
   "source": [
    "minlimit = Q1 -1.5*iqr #minimo valor del intervalo (1.5*iqr)\n",
    "maxlimit = Q3 + 1.5*iqr #maximo valor  del intervalo (1.5*iqr)\n",
    "print(minlimit, maxlimit) #minimo valor, maximo valor"
   ]
  },
  {
   "cell_type": "code",
   "execution_count": 8,
   "metadata": {},
   "outputs": [
    {
     "data": {
      "text/plain": [
       "<AxesSubplot:xlabel='price_usd', ylabel='Count'>"
      ]
     },
     "execution_count": 8,
     "metadata": {},
     "output_type": "execute_result"
    },
    {
     "data": {
      "image/png": "[encoded data removed]",
      "text/plain": [
       "<Figure size 432x288 with 1 Axes>"
      ]
     },
     "metadata": {
      "needs_background": "light"
     },
     "output_type": "display_data"
    }
   ],
   "source": [
    "sns.histplot(df['price_usd'], bins=10) # plot"
   ]
  },
  {
   "cell_type": "code",
   "execution_count": 9,
   "metadata": {},
   "outputs": [
    {
     "name": "stderr",
     "output_type": "stream",
     "text": [
      "C:\\Users\\rexcu\\anaconda3\\lib\\site-packages\\seaborn\\_decorators.py:36: FutureWarning: Pass the following variable as a keyword arg: x. From version 0.12, the only valid positional argument will be `data`, and passing other arguments without an explicit keyword will result in an error or misinterpretation.\n",
      "  warnings.warn(\n"
     ]
    },
    {
     "data": {
      "text/plain": [
       "<AxesSubplot:xlabel='price_usd'>"
      ]
     },
     "execution_count": 9,
     "metadata": {},
     "output_type": "execute_result"
    },
    {
     "data": {
      "image/png": "[encoded data removed]",
      "text/plain": [
       "<Figure size 432x288 with 1 Axes>"
      ]
     },
     "metadata": {
      "needs_background": "light"
     },
     "output_type": "display_data"
    }
   ],
   "source": [
    "sns.boxplot(df['price_usd']) # plot"
   ]
  }
 ],
 "metadata": {
  "interpreter": {
   "hash": "96d30bcf7e220e5f1499b27ed4f5c3271c4055fc0bcf1558bd7e760f051a8bc0"
  },
  "kernelspec": {
   "display_name": "Python 3.8.8 64-bit ('base': conda)",
   "language": "python",
   "name": "python3"
  },
  "language_info": {
   "codemirror_mode": {
    "name": "ipython",
    "version": 3
   },
   "file_extension": ".py",
   "mimetype": "text/x-python",
   "name": "python",
   "nbconvert_exporter": "python",
   "pygments_lexer": "ipython3",
   "version": "3.8.8"
  },
  "orig_nbformat": 4
 },
 "nbformat": 4,
 "nbformat_minor": 2
}
